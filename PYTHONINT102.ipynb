{
  "nbformat": 4,
  "nbformat_minor": 0,
  "metadata": {
    "colab": {
      "name": "PYTHONINT102.ipynb",
      "provenance": [],
      "collapsed_sections": [],
      "authorship_tag": "ABX9TyO4qFUjlSAK85jCzA+SOU9K",
      "include_colab_link": true
    },
    "kernelspec": {
      "name": "python3",
      "display_name": "Python 3"
    },
    "language_info": {
      "name": "python"
    }
  },
  "cells": [
    {
      "cell_type": "markdown",
      "metadata": {
        "id": "view-in-github",
        "colab_type": "text"
      },
      "source": [
        "<a href=\"https://colab.research.google.com/github/Sathwik0512/Character-control-using-body-posture/blob/Nikhil-Asogekar/PYTHONINT102.ipynb\" target=\"_parent\"><img src=\"https://colab.research.google.com/assets/colab-badge.svg\" alt=\"Open In Colab\"/></a>"
      ]
    },
    {
      "cell_type": "markdown",
      "metadata": {
        "id": "363Bx517gUlK"
      },
      "source": [
        "## **INT 102 Computer Programming**"
      ]
    },
    {
      "cell_type": "markdown",
      "metadata": {
        "id": "SFjb-jWcgnsw"
      },
      "source": [
        "Sathwik Bikumalla - 12014527\n",
        "\n"
      ]
    },
    {
      "cell_type": "markdown",
      "metadata": {
        "id": "OhW34_Z_gl-Q"
      },
      "source": [
        "Introduction, Variables, Expressions & Statements\n"
      ]
    },
    {
      "cell_type": "code",
      "metadata": {
        "colab": {
          "base_uri": "https://localhost:8080/"
        },
        "id": "JO4BGg-3giyX",
        "outputId": "d7f90d2a-75dc-41c5-db28-ceedbe111dd8"
      },
      "source": [
        "print(\"M2041\")\n",
        "print(\"Group 1\")\n",
        "print(\"Student Strength 36\")"
      ],
      "execution_count": 4,
      "outputs": [
        {
          "output_type": "stream",
          "text": [
            "M2041\n",
            "Group 1\n",
            "Student Strength 36\n"
          ],
          "name": "stdout"
        }
      ]
    },
    {
      "cell_type": "code",
      "metadata": {
        "colab": {
          "base_uri": "https://localhost:8080/"
        },
        "id": "609lK-iOhsY5",
        "outputId": "1966055e-1397-4160-ee9c-ce8630e381db"
      },
      "source": [
        "4+3//2-8"
      ],
      "execution_count": 7,
      "outputs": [
        {
          "output_type": "execute_result",
          "data": {
            "text/plain": [
              "-3"
            ]
          },
          "metadata": {},
          "execution_count": 7
        }
      ]
    },
    {
      "cell_type": "code",
      "metadata": {
        "id": "t-uyxufmh9YI"
      },
      "source": [
        ""
      ],
      "execution_count": null,
      "outputs": []
    }
  ]
}