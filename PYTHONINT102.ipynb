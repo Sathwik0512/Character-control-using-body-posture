{
  "nbformat": 4,
  "nbformat_minor": 0,
  "metadata": {
    "colab": {
      "name": "PYTHONINT102.ipynb",
      "provenance": [],
      "collapsed_sections": [],
      "authorship_tag": "ABX9TyNybLXxUMEpuHdgXZnTZabZ",
      "include_colab_link": true
    },
    "kernelspec": {
      "name": "python3",
      "display_name": "Python 3"
    },
    "language_info": {
      "name": "python"
    }
  },
  "cells": [
    {
      "cell_type": "markdown",
      "metadata": {
        "id": "view-in-github",
        "colab_type": "text"
      },
      "source": [
        "<a href=\"https://colab.research.google.com/github/Sathwik0512/Character-control-using-body-posture/blob/Nikhil-Asogekar/PYTHONINT102.ipynb\" target=\"_parent\"><img src=\"https://colab.research.google.com/assets/colab-badge.svg\" alt=\"Open In Colab\"/></a>"
      ]
    },
    {
      "cell_type": "markdown",
      "metadata": {
        "id": "363Bx517gUlK"
      },
      "source": [
        "## **INT 102 Computer Programming**"
      ]
    },
    {
      "cell_type": "markdown",
      "metadata": {
        "id": "SFjb-jWcgnsw"
      },
      "source": [
        "Sathwik Bikumalla - 12014527\n",
        "\n"
      ]
    },
    {
      "cell_type": "markdown",
      "metadata": {
        "id": "OhW34_Z_gl-Q"
      },
      "source": [
        "Introduction, Variables, Expressions & Statements\n"
      ]
    },
    {
      "cell_type": "code",
      "metadata": {
        "id": "JO4BGg-3giyX"
      },
      "source": [
        ""
      ],
      "execution_count": null,
      "outputs": []
    }
  ]
}